{
 "cells": [
  {
   "cell_type": "code",
   "execution_count": 1,
   "metadata": {},
   "outputs": [],
   "source": [
    "import pandas as pd\n",
    "import os\n",
    "import re"
   ]
  },
  {
   "cell_type": "code",
   "execution_count": null,
   "metadata": {},
   "outputs": [],
   "source": [
    "# Ruta del archivo Excel\n",
    "file_path = 'data/original/Ubicación actual de las Versiones Restauradas.xlsx'\n",
    "\n",
    "# Especifica el nombre o índice de la hoja que deseas importar\n",
    "sheet_name = 'VERSIONES RESTAURADAS'  # También puedes usar el índice de la hoja, por ejemplo: 0\n",
    "\n",
    "# Cargar la hoja especificada en un DataFrame\n",
    "df_verificacion = pd.read_excel(file_path, sheet_name=sheet_name)\n",
    "\n",
    "# Mostrar las primeras filas del DataFrame\n",
    "print(df_verificacion.head())\n"
   ]
  },
  {
   "cell_type": "code",
   "execution_count": null,
   "metadata": {},
   "outputs": [],
   "source": [
    "df_codigos = pd.DataFrame()\n",
    "\n",
    "df_codigos[['Codigo', 'Resto']] = df_verificacion['Código versión restaurada'].str.extract(r'(^.*\\d{6})\\s*(.*)')\n",
    "\n",
    "# Mostrar el nuevo DataFrame con las dos columnas\n",
    "print(df_codigos[['Codigo', 'Resto']])"
   ]
  },
  {
   "cell_type": "code",
   "execution_count": null,
   "metadata": {},
   "outputs": [],
   "source": [
    "# Ruta de la carpeta que contiene los archivos CSV\n",
    "folder_path = 'data/original/nas_csv'\n",
    "\n",
    "# Crear un diccionario para almacenar los DataFrames\n",
    "dfs = {}\n",
    "\n",
    "# Función para convertir el nombre del archivo a un formato válido\n",
    "def valid_name(name):\n",
    "    # Reemplazar caracteres no válidos y espacios por guiones bajos\n",
    "    name = re.sub(r'[^a-zA-Z0-9_]', '_', name)  # Reemplazar caracteres no alfanuméricos por '_'\n",
    "    name = name.replace(' ', '_')  # Reemplazar espacios por '_'\n",
    "    return name\n",
    "\n",
    "# Iterar sobre cada archivo en la carpeta\n",
    "for filename in os.listdir(folder_path):\n",
    "    if filename.endswith('.csv'):\n",
    "        # Obtener la ruta completa del archivo\n",
    "        file_path = os.path.join(folder_path, filename)\n",
    "        \n",
    "        # Leer el archivo CSV en un DataFrame\n",
    "        df = pd.read_csv(file_path)\n",
    "        \n",
    "        # Usar el nombre del archivo (sin la extensión) como clave en el diccionario\n",
    "        df_name = valid_name(os.path.splitext(filename)[0])  # Convertir a un nombre válido\n",
    "        dfs[df_name] = df\n",
    "\n",
    "# Ahora dfs contiene todos los DataFrames\n",
    "# Ejemplo de cómo acceder a un DataFrame específico\n",
    "# df_especifico = dfs.get('nombre_del_archivo_sin_extension')\n",
    "\n",
    "# Mostrar los nombres de los DataFrames creados\n",
    "print(dfs.keys())"
   ]
  },
  {
   "cell_type": "code",
   "execution_count": 22,
   "metadata": {},
   "outputs": [
    {
     "name": "stdout",
     "output_type": "stream",
     "text": [
      "              Codigo existe    archivo  fila\n",
      "0    VR F35MM 851242     no       None   NaN\n",
      "1  UMT 205827 CLIP 1     si  nas_2.csv   0.0\n",
      "2          DV 270979     si  nas_2.csv   2.0\n"
     ]
    }
   ],
   "source": [
    "import os\n",
    "import pandas as pd\n",
    "\n",
    "# Función para limpiar el código\n",
    "def clean_code(code):\n",
    "    return str(code).upper().strip()  # Convierte a mayúsculas y elimina espacios\n",
    "\n",
    "# Función para preprocesar los archivos CSV\n",
    "def preprocess_csv_files(folder_path):\n",
    "    preprocessed_data = []\n",
    "    # Iterar sobre los archivos en la carpeta\n",
    "    for filename in os.listdir(folder_path):\n",
    "        if filename.endswith('.csv'):\n",
    "            file_path = os.path.join(folder_path, filename)\n",
    "            # Cargar solo la primera columna (asumiendo que es la columna con los códigos)\n",
    "            df = pd.read_csv(file_path, usecols=[0], header=None)  # Cargar solo la primera columna\n",
    "            df['cleaned_code'] = df[0].apply(clean_code)  # Limpiar los códigos\n",
    "            preprocessed_data.append((filename, df[['cleaned_code']]))  # Guardar nombre de archivo y DataFrame limpio\n",
    "    return preprocessed_data\n",
    "\n",
    "# Función para crear un diccionario con los códigos\n",
    "def create_code_map(preprocessed_data):\n",
    "    code_map = {}\n",
    "    for filename, df in preprocessed_data:\n",
    "        for idx, row in df.iterrows():\n",
    "            code = row['cleaned_code']\n",
    "            if code not in code_map:\n",
    "                code_map[code] = []  # Inicializa una lista para múltiples ocurrencias\n",
    "            code_map[code].append((filename, idx))  # Guarda el archivo y la fila\n",
    "    return code_map\n",
    "\n",
    "# Función para verificar la existencia de un código\n",
    "def verificar_existencia(codigo):\n",
    "    cleaned_codigo = clean_code(codigo)  # Limpiar el código a buscar\n",
    "    if cleaned_codigo in code_map:  # Verificar si está en el diccionario\n",
    "        return \"si\", code_map[cleaned_codigo][0][0], code_map[cleaned_codigo][0][1]  # Retorna \"si\", el archivo y la fila\n",
    "    return \"no\", None, None  # Retorna \"no\" si no se encuentra\n",
    "\n",
    "# Ejecutar el preprocesamiento y la creación del diccionario\n",
    "folder_path = 'data/original/nas_csv'  # Ruta donde están los archivos CSV\n",
    "preprocessed_data = preprocess_csv_files(folder_path)  # Preprocesar los archivos CSV\n",
    "code_map = create_code_map(preprocessed_data)  # Crear el diccionario de códigos\n",
    "\n",
    "# Supongamos que df_codigos es tu DataFrame con los códigos a verificar\n",
    "df_codigos = pd.DataFrame({'Codigo': ['VR F35MM 851242', 'UMT 205827 CLIP 1', 'DV 270979']})\n",
    "\n",
    "# Aplicar la función para verificar existencia\n",
    "df_codigos[['existe', 'archivo', 'fila']] = df_codigos['Codigo'].apply(verificar_existencia).apply(pd.Series)\n",
    "\n",
    "# Mostrar el DataFrame actualizado\n",
    "print(df_codigos)\n"
   ]
  }
 ],
 "metadata": {
  "kernelspec": {
   "display_name": "my_env",
   "language": "python",
   "name": "python3"
  },
  "language_info": {
   "codemirror_mode": {
    "name": "ipython",
    "version": 3
   },
   "file_extension": ".py",
   "mimetype": "text/x-python",
   "name": "python",
   "nbconvert_exporter": "python",
   "pygments_lexer": "ipython3",
   "version": "3.9.19"
  }
 },
 "nbformat": 4,
 "nbformat_minor": 2
}
