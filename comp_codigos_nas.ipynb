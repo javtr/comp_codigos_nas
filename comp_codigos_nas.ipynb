{
 "cells": [
  {
   "cell_type": "code",
   "execution_count": 17,
   "metadata": {},
   "outputs": [],
   "source": [
    "import pandas as pd\n",
    "import modin.pandas as mpd"
   ]
  },
  {
   "cell_type": "code",
   "execution_count": null,
   "metadata": {},
   "outputs": [],
   "source": [
    "# Ruta del archivo Excel\n",
    "file_path = 'data/original/Ubicación actual de las Versiones Restauradas.xlsx'\n",
    "\n",
    "# Especifica el nombre o índice de la hoja que deseas importar\n",
    "sheet_name = 'VERSIONES RESTAURADAS'  # También puedes usar el índice de la hoja, por ejemplo: 0\n",
    "\n",
    "# Cargar la hoja especificada en un DataFrame\n",
    "df_verificacion = pd.read_excel(file_path, sheet_name=sheet_name)\n",
    "\n",
    "# Mostrar las primeras filas del DataFrame\n",
    "print(df_verificacion.head())\n"
   ]
  },
  {
   "cell_type": "code",
   "execution_count": 21,
   "metadata": {},
   "outputs": [
    {
     "name": "stdout",
     "output_type": "stream",
     "text": [
      "dict_keys(['NAS_10', 'restauracion_1'])\n"
     ]
    },
    {
     "name": "stderr",
     "output_type": "stream",
     "text": [
      "DtypeWarning: Columns (0,1,2,3,5,6,7,8,10,11,12,13,21,22,23) have mixed types. Specify dtype option on import or set low_memory=False.\n"
     ]
    }
   ],
   "source": [
    "import pandas as pd\n",
    "import os\n",
    "import re\n",
    "\n",
    "# Ruta de la carpeta que contiene los archivos CSV\n",
    "folder_path = 'data/original/nas_csv'\n",
    "\n",
    "# Crear un diccionario para almacenar los DataFrames\n",
    "dfs = {}\n",
    "\n",
    "# Función para convertir el nombre del archivo a un formato válido\n",
    "def valid_name(name):\n",
    "    # Reemplazar caracteres no válidos y espacios por guiones bajos\n",
    "    name = re.sub(r'[^a-zA-Z0-9_]', '_', name)  # Reemplazar caracteres no alfanuméricos por '_'\n",
    "    name = name.replace(' ', '_')  # Reemplazar espacios por '_'\n",
    "    return name\n",
    "\n",
    "# Iterar sobre cada archivo en la carpeta\n",
    "for filename in os.listdir(folder_path):\n",
    "    if filename.endswith('.csv'):\n",
    "        # Obtener la ruta completa del archivo\n",
    "        file_path = os.path.join(folder_path, filename)\n",
    "        \n",
    "        # Leer el archivo CSV en un DataFrame\n",
    "        df = pd.read_csv(file_path)\n",
    "        \n",
    "        # Usar el nombre del archivo (sin la extensión) como clave en el diccionario\n",
    "        df_name = valid_name(os.path.splitext(filename)[0])  # Convertir a un nombre válido\n",
    "        dfs[df_name] = df\n",
    "\n",
    "# Ahora dfs contiene todos los DataFrames\n",
    "# Ejemplo de cómo acceder a un DataFrame específico\n",
    "# df_especifico = dfs.get('nombre_del_archivo_sin_extension')\n",
    "\n",
    "# Mostrar los nombres de los DataFrames creados\n",
    "print(dfs.keys())"
   ]
  },
  {
   "cell_type": "code",
   "execution_count": null,
   "metadata": {},
   "outputs": [],
   "source": [
    "# Ruta del archivo Excel\n",
    "file_path = 'data/original/Verificación data de los NAS.xlsx'\n",
    "\n",
    "# Leer todas las hojas del archivo Excel\n",
    "xls = pd.ExcelFile(file_path)\n",
    "\n",
    "# Crear un diccionario para almacenar los DataFrames\n",
    "dfs = {}\n",
    "\n",
    "# Iterar sobre cada hoja y crear un DataFrame\n",
    "for sheet_name in xls.sheet_names:\n",
    "    # Convertir el nombre de la hoja a un formato válido para Python\n",
    "    valid_name = sheet_name.replace(\" \", \"_\").replace(\"-\", \"_\").replace(\".\", \"_\")\n",
    "    valid_name = valid_name.replace(\"(\", \"\").replace(\")\", \"\")  # Eliminar paréntesis si existen\n",
    "    \n",
    "    # Leer la hoja en un DataFrame\n",
    "    dfs[valid_name] = pd.read_excel(xls, sheet_name=sheet_name)\n",
    "\n",
    "# Ahora dfs contiene todos los DataFrames\n",
    "# Ejemplo de cómo acceder a un DataFrame específico\n",
    "# df_nas_1 = dfs.get('nombre_valido_de_la_hoja')\n",
    "\n",
    "# Para mostrar los nombres de los DataFrames creados\n",
    "print(dfs.keys())\n"
   ]
  },
  {
   "cell_type": "code",
   "execution_count": null,
   "metadata": {},
   "outputs": [],
   "source": [
    "df_codigos = pd.DataFrame()\n",
    "\n",
    "df_codigos[['Codigo', 'Resto']] = df_verificacion['Código versión restaurada'].str.extract(r'(^.*\\d{6})\\s*(.*)')\n",
    "\n",
    "# Mostrar el nuevo DataFrame con las dos columnas\n",
    "print(df_codigos[['Codigo', 'Resto']])"
   ]
  },
  {
   "cell_type": "code",
   "execution_count": 22,
   "metadata": {},
   "outputs": [
    {
     "name": "stdout",
     "output_type": "stream",
     "text": [
      "               Codigo                                              Resto  \\\n",
      "0     VR F35mm 851242                                       QUÉ HORA ES?   \n",
      "1     VR F35mm 851304                             A Orillas Del Amazonas   \n",
      "2     VR F35mm 851303                                  Ángulos De Bogotá   \n",
      "3     VR F35mm 851011                      Batalla del pantano de Vargas   \n",
      "4     VR F35mm 851112                         Cali, la Sultana del Valle   \n",
      "...               ...                                                ...   \n",
      "1324  VR F16mm 802705                   Yuruparí Cap Cumbia sobre el río   \n",
      "1325  VR F16mm 802706               Yuruparí Cap Las farotas de Talaigua   \n",
      "1326  VR F16mm 802707  Yuruparí Cap Mompox, el ocaso del oro y del barro   \n",
      "1327  VR F16mm 802708               Yuruparí Cap El Cristo negro de Tadó   \n",
      "1328  VR F16mm 802709                Yuruparí Cap El Carnaval del Diablo   \n",
      "\n",
      "     existente  \n",
      "0           no  \n",
      "1           no  \n",
      "2           no  \n",
      "3           no  \n",
      "4           no  \n",
      "...        ...  \n",
      "1324        no  \n",
      "1325        no  \n",
      "1326        no  \n",
      "1327        no  \n",
      "1328        no  \n",
      "\n",
      "[1329 rows x 3 columns]\n"
     ]
    }
   ],
   "source": [
    "\n",
    "# Supongamos que df_codigos ya está definido como un DataFrame de Modin\n",
    "# Ejemplo de cómo definir df_codigos (asegúrate de usar mpd para Modin)\n",
    "# df_codigos = mpd.read_excel('ruta/a/tu/archivo.xlsx')\n",
    "\n",
    "def verificar_existencia(codigo):\n",
    "    # Iterar sobre todos los DataFrames en el diccionario\n",
    "    for df_name, df in dfs.items():\n",
    "        # Comprobar si el código está en cualquier columna del DataFrame\n",
    "        if codigo in df.values:\n",
    "            return \"si\"\n",
    "    return \"no\"\n",
    "\n",
    "# Aplicar la función para crear la nueva columna 'existente' en df_codigos\n",
    "df_codigos['existente'] = df_codigos['Codigo'].apply(verificar_existencia)\n",
    "\n",
    "# Mostrar el DataFrame actualizado\n",
    "print(df_codigos)\n"
   ]
  },
  {
   "cell_type": "code",
   "execution_count": 23,
   "metadata": {},
   "outputs": [],
   "source": [
    "# Combinar todos los DataFrames en uno solo\n",
    "df_todos = pd.concat(dfs.values(), ignore_index=True)\n",
    "\n",
    "# Crear un conjunto de códigos existentes\n",
    "codigos_existentes = set(df_todos.values.flatten())\n",
    "\n",
    "# Aplicar la verificación de existencia\n",
    "df_codigos['existente'] = df_codigos['Codigo'].isin(codigos_existentes).replace({True: \"si\", False: \"no\"})\n",
    "\n",
    "# Mostrar el DataFrame actualizado\n",
    "print(df_codigos)\n"
   ]
  }
 ],
 "metadata": {
  "kernelspec": {
   "display_name": "my_env",
   "language": "python",
   "name": "python3"
  },
  "language_info": {
   "codemirror_mode": {
    "name": "ipython",
    "version": 3
   },
   "file_extension": ".py",
   "mimetype": "text/x-python",
   "name": "python",
   "nbconvert_exporter": "python",
   "pygments_lexer": "ipython3",
   "version": "3.9.19"
  }
 },
 "nbformat": 4,
 "nbformat_minor": 2
}
